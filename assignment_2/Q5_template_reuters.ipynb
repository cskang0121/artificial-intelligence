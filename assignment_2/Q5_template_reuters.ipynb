{
  "cells": [
    {
      "cell_type": "code",
      "execution_count": 1,
      "metadata": {
        "id": "QjHK80jR15cb",
        "colab": {
          "base_uri": "https://localhost:8080/"
        },
        "outputId": "98a54cee-1be7-4d0f-98a4-acc38a156244"
      },
      "outputs": [
        {
          "output_type": "stream",
          "name": "stdout",
          "text": [
            "[nltk_data] Downloading package stopwords to /root/nltk_data...\n",
            "[nltk_data]   Unzipping corpora/stopwords.zip.\n",
            "[nltk_data] Downloading package reuters to /root/nltk_data...\n"
          ]
        }
      ],
      "source": [
        "import nltk\n",
        "nltk.download('stopwords')\n",
        "from nltk.corpus import stopwords\n",
        "\n",
        "nltk.download('reuters')\n",
        "from nltk.corpus import reuters\n",
        "\n",
        "file_loc = '/root/nltk_data/corpora/reuters.zip'\n",
        "from zipfile import ZipFile\n",
        "with ZipFile(file_loc, 'r') as z:\n",
        "  z.extractall('/root/nltk_data/corpora/')\n",
        "\n",
        "import numpy as np\n",
        "from gensim.models import word2vec"
      ]
    },
    {
      "cell_type": "markdown",
      "metadata": {
        "id": "UTam_xXUv2Z9"
      },
      "source": [
        "## (a) Load the dataset"
      ]
    },
    {
      "cell_type": "code",
      "source": [
        "def load_data(category=\"money-fx\"):\n",
        "    \"\"\" Read files from the specified Reuter's category.\n",
        "        Params:\n",
        "            category (string): category name\n",
        "        Return:\n",
        "            list of lists, with words from each of the processed files/documents\n",
        "    \"\"\"\n",
        "    files = reuters.fileids(category)\n",
        "    list_words = []\n",
        "    ### iterate over all documents/files from the reuters dataset\n",
        "    for f in files:\n",
        "      words = []\n",
        "      ### iterate over all words of a document/file\n",
        "      for w in list(reuters.words(f)):\n",
        "        ## TODO: remote the stop words, convert a word (w) to the lower case, and append to the list\n",
        "      list_words.append(words)\n",
        "    return list_words\n",
        "\n",
        "# check a few samples of reuters corpus\n",
        "reuters_corpus = load_data()\n",
        "print(reuters_corpus[:3])"
      ],
      "metadata": {
        "id": "xQsTJcH2X-9E",
        "colab": {
          "base_uri": "https://localhost:8080/",
          "height": 130
        },
        "outputId": "7e89cf05-34f1-42db-ff69-47b8679ce96c"
      },
      "execution_count": 2,
      "outputs": [
        {
          "output_type": "error",
          "ename": "IndentationError",
          "evalue": "ignored",
          "traceback": [
            "\u001b[0;36m  File \u001b[0;32m\"<ipython-input-2-8e9acf25ba9f>\"\u001b[0;36m, line \u001b[0;32m16\u001b[0m\n\u001b[0;31m    list_words.append(words)\u001b[0m\n\u001b[0m             ^\u001b[0m\n\u001b[0;31mIndentationError\u001b[0m\u001b[0;31m:\u001b[0m expected an indented block\n"
          ]
        }
      ]
    },
    {
      "cell_type": "markdown",
      "metadata": {
        "id": "e-ZkbmSX15ck"
      },
      "source": [
        "## (b) Create co-occurrence matrix"
      ]
    },
    {
      "cell_type": "code",
      "execution_count": null,
      "metadata": {
        "id": "X3B83uir15cn"
      },
      "outputs": [],
      "source": [
        "def distinct_words(corpus):\n",
        "    \"\"\" get a list of distinct words for the corpus.\n",
        "        Params:\n",
        "            corpus (list of list of strings): corpus of documents\n",
        "        Return:\n",
        "            corpus_words (list of strings): list of distinct words across the corpus, sorted (using python 'sorted' function)\n",
        "            num_corpus_words (integer): number of distinct words across the corpus\n",
        "    \"\"\"\n",
        "    corpus_words = []\n",
        "    num_corpus_words = -1\n",
        "    # ------------------\n",
        "    # TODO:\n",
        "    # ------------------\n",
        "    return corpus_words, num_corpus_words\n",
        "\n",
        "words, num_words = distinct_words(reuters_corpus)\n",
        "print(words, num_words)"
      ]
    },
    {
      "cell_type": "code",
      "execution_count": null,
      "metadata": {
        "scrolled": true,
        "id": "8WB4cZBR15cp"
      },
      "outputs": [],
      "source": [
        "def compute_co_occurrence_matrix(corpus, window_size=7):\n",
        "    \"\"\" Compute co-occurrence matrix for the given corpus and window_size (default of 7).    \n",
        "        Params:\n",
        "            corpus (list of list of strings): corpus of documents\n",
        "            window_size (int): size of context window\n",
        "        Return:\n",
        "            M (numpy matrix of shape = [number of corpus words x number of corpus words]): \n",
        "                Co-occurence matrix of word counts. \n",
        "                The ordering of the words in the rows/columns should be the same as the ordering of the words given by the distinct_words function.\n",
        "            word2Ind (dict): dictionary that maps word to index (i.e. row/column number) for matrix M.\n",
        "    \"\"\"\n",
        "    M = None\n",
        "    word2Ind = {}\n",
        "    \n",
        "    # ------------------\n",
        "    # TODO:\n",
        "    # ------------------\n",
        "\n",
        "    return M, word2Ind\n",
        "\n",
        "M, word2Ind = compute_co_occurrence_matrix(reuters_corpus)"
      ]
    },
    {
      "cell_type": "markdown",
      "metadata": {
        "id": "11njtWHx15cv"
      },
      "source": [
        "## (c) SVD"
      ]
    },
    {
      "cell_type": "code",
      "execution_count": null,
      "metadata": {
        "id": "LddeVOq615cv"
      },
      "outputs": [],
      "source": [
        "# -----------------------------\n",
        "# Run SVD\n",
        "# Note: This may take several minutes\n",
        "# ------------------------------"
      ]
    },
    {
      "cell_type": "markdown",
      "metadata": {
        "id": "D4dOMjKj15cy"
      },
      "source": [
        "## (d) Word2Vec"
      ]
    },
    {
      "cell_type": "code",
      "execution_count": null,
      "metadata": {
        "id": "jRti6Rn815cy"
      },
      "outputs": [],
      "source": [
        "# Creating the model and setting values for the various parameters\n",
        "\n",
        "# Initializing the train model"
      ]
    },
    {
      "cell_type": "markdown",
      "metadata": {
        "id": "asqnIK1315c0"
      },
      "source": [
        "## (d) Compare SVD word embeddings with Word2Vec"
      ]
    },
    {
      "cell_type": "code",
      "execution_count": null,
      "metadata": {
        "id": "bwGC7K0z15c3"
      },
      "outputs": [],
      "source": [
        "from sklearn.metrics.pairwise import cosine_similarity\n",
        "\n",
        "def svd_most_similar(query_word, n=10):\n",
        "    \"\"\" return 'n' most similar words of a query word using the SVD word embeddings similar to word2vec's most_smilar    \n",
        "        Params:\n",
        "            query_word (strings): a query word\n",
        "        Return:\n",
        "            most_similar (list of strings): the list of 'n' most similar words\n",
        "    \"\"\"\n",
        "\n",
        "    return most_similar   \n",
        "    "
      ]
    },
    {
      "cell_type": "markdown",
      "metadata": {
        "id": "W3Fbmd6y15c4"
      },
      "source": [
        "## SVD vs Word2Vec: \"???\""
      ]
    },
    {
      "cell_type": "code",
      "execution_count": null,
      "metadata": {
        "id": "zBzFmNpH15c5"
      },
      "outputs": [],
      "source": [
        "svd_most_similar(\"???\")"
      ]
    },
    {
      "cell_type": "code",
      "execution_count": null,
      "metadata": {
        "id": "BxVYovyL15c5"
      },
      "outputs": [],
      "source": [
        "model.wv.most_similar(\"???\")"
      ]
    }
  ],
  "metadata": {
    "kernelspec": {
      "display_name": "Python 3",
      "language": "python",
      "name": "python3"
    },
    "language_info": {
      "codemirror_mode": {
        "name": "ipython",
        "version": 3
      },
      "file_extension": ".py",
      "mimetype": "text/x-python",
      "name": "python",
      "nbconvert_exporter": "python",
      "pygments_lexer": "ipython3",
      "version": "3.7.6"
    },
    "colab": {
      "name": "Q5_template_test.ipynb",
      "provenance": [],
      "collapsed_sections": []
    }
  },
  "nbformat": 4,
  "nbformat_minor": 0
}